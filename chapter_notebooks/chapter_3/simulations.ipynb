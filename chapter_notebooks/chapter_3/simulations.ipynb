{
 "cells": [
  {
   "cell_type": "code",
   "execution_count": 1,
   "metadata": {},
   "outputs": [],
   "source": [
    "import numpy as np\n",
    "import pandas as pd\n",
    "import networkx as nx\n",
    "import matplotlib.pyplot as plt\n",
    "import seaborn as sns\n",
    "from simulation_utils import *\n",
    "from sklearn.manifold import MDS\n",
    "from sklearn.metrics import euclidean_distances, DistanceMetric, auc, f1_score, mutual_info_score\n",
    "from sklearn.metrics.pairwise import manhattan_distances, cosine_distances\n",
    "from sklearn.cluster import KMeans\n",
    "import scipy.stats as stat\n",
    "from scipy.optimize import minimize\n",
    "import itertools\n",
    "# import ipyparallel as ipp\n",
    "from collections import defaultdict\n",
    "import pymc as pm\n",
    "from sklearn.mixture import GaussianMixture\n",
    "from scipy.spatial.distance import jensenshannon\n",
    "import matplotlib.animation as animation\n"
   ]
  },
  {
   "cell_type": "code",
   "execution_count": 12,
   "metadata": {},
   "outputs": [],
   "source": [
    "stimuli = np.random.uniform(size=(15, 10))\n",
    "feature_encode_prob = 0.9\n",
    "correct_encode_prob = 0.6\n",
    "time_unit = 5\n",
    "test_stimuli = np.random.uniform(size = (15, 10))\n",
    "\n",
    "\n",
    "\n"
   ]
  },
  {
   "cell_type": "code",
   "execution_count": 20,
   "metadata": {},
   "outputs": [],
   "source": [
    "encoded_stimuli = np.zeros((15, 10))\n",
    "\n",
    "for s, stim in enumerate(stimuli):\n",
    "    for t in range(time_unit):\n",
    "        for f, feat in enumerate(stim):\n",
    "            if encoded_stimuli[s][f] != 0:\n",
    "                \n",
    "                # print('here')\n",
    "                continue\n",
    "            else:\n",
    "                if np.random.uniform() < feature_encode_prob:\n",
    "                    if np.random.uniform() < correct_encode_prob:\n",
    "                        encoded_stimuli[s][f] = stimuli[s][f]\n",
    "                    else:\n",
    "                        encoded_stimuli[s][f] = np.random.uniform()\n",
    "    "
   ]
  },
  {
   "cell_type": "code",
   "execution_count": 22,
   "metadata": {},
   "outputs": [
    {
     "data": {
      "text/plain": [
       "<Axes: >"
      ]
     },
     "execution_count": 22,
     "metadata": {},
     "output_type": "execute_result"
    },
    {
     "data": {
      "image/png": "[encoded data removed]",
      "text/plain": [
       "<Figure size 640x480 with 2 Axes>"
      ]
     },
     "metadata": {},
     "output_type": "display_data"
    }
   ],
   "source": [
    "sns.heatmap(stimuli)"
   ]
  },
  {
   "cell_type": "code",
   "execution_count": null,
   "metadata": {},
   "outputs": [],
   "source": []
  },
  {
   "cell_type": "code",
   "execution_count": null,
   "metadata": {},
   "outputs": [],
   "source": []
  },
  {
   "cell_type": "code",
   "execution_count": null,
   "metadata": {},
   "outputs": [],
   "source": [
    "def get_encoded(store_prob_alpha, store_prob_beta, encode_noise, stim_stream, obj_cat_feature_matrix, context_boost = False, node_entropy = None):\n",
    "    encoder = np.zeros((len(stim_stream), obj_cat_feature_matrix.shape[1]))\n",
    "    # forgetting_rate = 0.05\n",
    "    # encoding_rate = 0.9\n",
    "    if not context_boost:\n",
    "        for i, stim in enumerate(stim_stream):\n",
    "            for feature in range(obj_cat_feature_matrix.shape[1]):\n",
    "                store_prob = np.random.beta(store_prob_alpha, store_prob_beta)\n",
    "                acc_prob = np.random.beta(store_prob_alpha, store_prob_beta)\n",
    "\n",
    "                if np.random.binomial(1, store_prob):\n",
    "                    if np.random.binomial(1, acc_prob):\n",
    "                        encoder[i][feature] = obj_cat_feature_matrix[stim][feature] \n",
    "                    else:\n",
    "                        encoder[i][feature] = obj_cat_feature_matrix[stim][feature] + np.random.normal(obj_cat_feature_matrix[stim][feature], encode_noise)\n",
    "                else:\n",
    "                    encoder[i][feature] = 0\n",
    "    else:\n",
    "        for i, stim in enumerate(stim_stream):\n",
    "            for feature in range(obj_cat_feature_matrix.shape[1]):\n",
    "                store_prob = np.random.beta(store_prob_alpha*node_entropy[stim], store_prob_beta/node_entropy[stim])\n",
    "                acc_prob = np.random.beta(store_prob_alpha*node_entropy[stim], store_prob_beta/node_entropy[stim])\n",
    "\n",
    "                if np.random.binomial(1, store_prob):\n",
    "                    if np.random.binomial(1, acc_prob):\n",
    "                        encoder[i][feature] = obj_cat_feature_matrix[stim][feature] \n",
    "                    else:\n",
    "                        encoder[i][feature] = obj_cat_feature_matrix[stim][feature] + np.random.normal(obj_cat_feature_matrix[stim][feature], encode_noise)\n",
    "                else:\n",
    "                    encoder[i][feature] = 0\n",
    "        \n",
    "\n",
    "    return encoder\n"
   ]
  }
 ],
 "metadata": {
  "kernelspec": {
   "display_name": "eb_music",
   "language": "python",
   "name": "python3"
  },
  "language_info": {
   "codemirror_mode": {
    "name": "ipython",
    "version": 3
   },
   "file_extension": ".py",
   "mimetype": "text/x-python",
   "name": "python",
   "nbconvert_exporter": "python",
   "pygments_lexer": "ipython3",
   "version": "3.11.8"
  }
 },
 "nbformat": 4,
 "nbformat_minor": 2
}
