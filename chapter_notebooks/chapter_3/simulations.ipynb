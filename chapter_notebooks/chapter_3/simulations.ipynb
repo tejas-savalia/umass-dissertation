{
 "cells": [
  {
   "cell_type": "code",
   "execution_count": 1,
   "metadata": {},
   "outputs": [],
   "source": [
    "import numpy as np\n",
    "import pandas as pd\n",
    "import networkx as nx\n",
    "import matplotlib.pyplot as plt\n",
    "import seaborn as sns\n",
    "from simulation_utils import *\n",
    "from sklearn.manifold import MDS\n",
    "from sklearn.metrics import euclidean_distances, DistanceMetric, auc, f1_score, mutual_info_score\n",
    "from sklearn.metrics.pairwise import manhattan_distances, cosine_distances\n",
    "from sklearn.cluster import KMeans\n",
    "import scipy.stats as stat\n",
    "from scipy.optimize import minimize\n",
    "import itertools\n",
    "# import ipyparallel as ipp\n",
    "from collections import defaultdict\n",
    "import pymc as pm\n",
    "from sklearn.mixture import GaussianMixture\n",
    "from scipy.spatial.distance import jensenshannon\n",
    "import matplotlib.animation as animation\n"
   ]
  },
  {
   "cell_type": "code",
   "execution_count": 12,
   "metadata": {},
   "outputs": [],
   "source": [
    "stimuli = np.random.uniform(size=(15, 10))\n",
    "feature_encode_prob = 0.9\n",
    "correct_encode_prob = 0.6\n",
    "